{
 "cells": [
  {
   "cell_type": "markdown",
   "id": "73f80c5d",
   "metadata": {},
   "source": [
    "Q1\n"
   ]
  },
  {
   "cell_type": "code",
   "execution_count": 1,
   "id": "fadeb93f",
   "metadata": {},
   "outputs": [
    {
     "data": {
      "text/plain": [
       "20"
      ]
     },
     "execution_count": 1,
     "metadata": {},
     "output_type": "execute_result"
    }
   ],
   "source": [
    "def sum_of_all_numbers(a,b,c,d,e):\n",
    "    sum=a+b+c+d+e\n",
    "    return sum    \n",
    "sum_of_all_numbers(8,2,3,0,7)  "
   ]
  },
  {
   "cell_type": "markdown",
   "id": "a64ad308",
   "metadata": {},
   "source": [
    "Q2\n"
   ]
  },
  {
   "cell_type": "code",
   "execution_count": 2,
   "id": "4b6a8ddd",
   "metadata": {},
   "outputs": [
    {
     "data": {
      "text/plain": [
       "'dcba4321'"
      ]
     },
     "execution_count": 2,
     "metadata": {},
     "output_type": "execute_result"
    }
   ],
   "source": [
    "def str_1():\n",
    "    a=\"1234abcd\"\n",
    "    b=a[::-1]\n",
    "    return b\n",
    "str_1()   "
   ]
  },
  {
   "cell_type": "markdown",
   "id": "fdae7ef1",
   "metadata": {},
   "source": [
    "Q3"
   ]
  },
  {
   "cell_type": "code",
   "execution_count": null,
   "id": "326a4ac5",
   "metadata": {},
   "outputs": [],
   "source": []
  }
 ],
 "metadata": {
  "kernelspec": {
   "display_name": "Python 3 (ipykernel)",
   "language": "python",
   "name": "python3"
  },
  "language_info": {
   "codemirror_mode": {
    "name": "ipython",
    "version": 3
   },
   "file_extension": ".py",
   "mimetype": "text/x-python",
   "name": "python",
   "nbconvert_exporter": "python",
   "pygments_lexer": "ipython3",
   "version": "3.10.0"
  }
 },
 "nbformat": 4,
 "nbformat_minor": 5
}
