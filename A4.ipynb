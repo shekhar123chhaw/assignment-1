{
 "cells": [
  {
   "cell_type": "markdown",
   "id": "f8d278c2",
   "metadata": {},
   "source": [
    "Q.1)Write a Python program to create a lambda function that adds 25 to a given number passed in as an argument.\n",
    "\n",
    "sample input: 10\n",
    "\n",
    "sample output: 35\n"
   ]
  },
  {
   "cell_type": "code",
   "execution_count": 1,
   "id": "a1d1084a",
   "metadata": {},
   "outputs": [
    {
     "data": {
      "text/plain": [
       "35"
      ]
     },
     "execution_count": 1,
     "metadata": {},
     "output_type": "execute_result"
    }
   ],
   "source": [
    "(lambda x:x+25)(10)"
   ]
  },
  {
   "cell_type": "code",
   "execution_count": 2,
   "id": "ba945256",
   "metadata": {},
   "outputs": [
    {
     "name": "stdout",
     "output_type": "stream",
     "text": [
      "35\n"
     ]
    }
   ],
   "source": [
    "###this code is right it is making clumsy to my code,,so instead of it above code is more fair.\n",
    "def adds_25(x):\n",
    "    return x+25\n",
    "y=lambda x:adds_25(x)\n",
    "print(y(10))"
   ]
  },
  {
   "cell_type": "markdown",
   "id": "5ecf6e40",
   "metadata": {},
   "source": [
    "Q.2)Write a Python program to triple all numbers of a given list of integers. Use Python map. sample list: [1, 2, 3, 4, 5, 6, 7] Triple of list numbers: [3, 6, 9, 12, 15, 18, 21]\n",
    "\n"
   ]
  },
  {
   "cell_type": "code",
   "execution_count": 3,
   "id": "f3a7656b",
   "metadata": {},
   "outputs": [
    {
     "name": "stdout",
     "output_type": "stream",
     "text": [
      "[3, 6, 9, 12, 15, 18, 21]\n"
     ]
    }
   ],
   "source": [
    "l=[1,2,3,4,5,6,7]\n",
    "\n",
    "print(list(map(lambda x:x*3,l)) ) "
   ]
  },
  {
   "cell_type": "code",
   "execution_count": 4,
   "id": "5d52f6d4",
   "metadata": {},
   "outputs": [
    {
     "data": {
      "text/plain": [
       "[3, 6, 9, 12, 15, 18, 21]"
      ]
     },
     "execution_count": 4,
     "metadata": {},
     "output_type": "execute_result"
    }
   ],
   "source": [
    "list(map(lambda x:x*3,l))"
   ]
  },
  {
   "cell_type": "markdown",
   "id": "c4ee4aa3",
   "metadata": {},
   "source": [
    "Q.3)Write a Python program to square the elements of a list using map() function.\n",
    "\n",
    "Sample List: [4, 5, 2, 9]\n",
    "\n",
    "Square the elements of the list: [16, 25, 4, 81]"
   ]
  },
  {
   "cell_type": "code",
   "execution_count": 5,
   "id": "1b339f68",
   "metadata": {},
   "outputs": [
    {
     "data": {
      "text/plain": [
       "[16, 25, 4, 81]"
      ]
     },
     "execution_count": 5,
     "metadata": {},
     "output_type": "execute_result"
    }
   ],
   "source": [
    "l1=[4, 5, 2, 9]\n",
    "def square_of_elements(x):\n",
    "    return x**2\n",
    "list(map( square_of_elements,l1) )"
   ]
  },
  {
   "cell_type": "code",
   "execution_count": null,
   "id": "27a3e481",
   "metadata": {},
   "outputs": [],
   "source": [
    "l1=[4, 5, 2, 9]\n",
    "list(map(lambda x:x**2,l1) )"
   ]
  }
 ],
 "metadata": {
  "kernelspec": {
   "display_name": "Python 3 (ipykernel)",
   "language": "python",
   "name": "python3"
  },
  "language_info": {
   "codemirror_mode": {
    "name": "ipython",
    "version": 3
   },
   "file_extension": ".py",
   "mimetype": "text/x-python",
   "name": "python",
   "nbconvert_exporter": "python",
   "pygments_lexer": "ipython3",
   "version": "3.10.0"
  }
 },
 "nbformat": 4,
 "nbformat_minor": 5
}
