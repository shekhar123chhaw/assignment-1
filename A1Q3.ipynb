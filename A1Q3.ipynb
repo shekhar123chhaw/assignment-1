{
 "cells": [
  {
   "cell_type": "markdown",
   "id": "06fb255a",
   "metadata": {},
   "source": [
    "Sample numbers : numbers = (1, 2, 3, 4, 5, 6, 7, 8, 9) \n",
    "\n",
    "Expected Output :\n",
    "\n",
    "Number of even numbers : 4\n",
    "\n",
    "Number of odd numbers : 5"
   ]
  },
  {
   "cell_type": "code",
   "execution_count": 4,
   "id": "ad7d5a57",
   "metadata": {},
   "outputs": [
    {
     "ename": "SyntaxError",
     "evalue": "cannot assign to expression here. Maybe you meant '==' instead of '='? (Temp/ipykernel_17184/222482400.py, line 7)",
     "output_type": "error",
     "traceback": [
      "\u001b[1;36m  File \u001b[1;32m\"C:\\Users\\CG-DTE\\AppData\\Local\\Temp/ipykernel_17184/222482400.py\"\u001b[1;36m, line \u001b[1;32m7\u001b[0m\n\u001b[1;33m    a+1=a\u001b[0m\n\u001b[1;37m    ^\u001b[0m\n\u001b[1;31mSyntaxError\u001b[0m\u001b[1;31m:\u001b[0m cannot assign to expression here. Maybe you meant '==' instead of '='?\n"
     ]
    }
   ],
   "source": [
    "x = (1, 2, 3, 4, 5, 6, 7, 8, 9) \n",
    "a=0\n",
    "b=0\n",
    "for i in x:\n",
    "    \n",
    "    if i%2==0:\n",
    "        a=a+\n",
    "    else:\n",
    "          b+1=b\n",
    "print(\"Number of even numbers : \",a)            \n",
    "print(\"Number of odd numbers : \",b)"
   ]
  },
  {
   "cell_type": "code",
   "execution_count": null,
   "id": "a87c19b9",
   "metadata": {},
   "outputs": [],
   "source": []
  }
 ],
 "metadata": {
  "kernelspec": {
   "display_name": "Python 3 (ipykernel)",
   "language": "python",
   "name": "python3"
  },
  "language_info": {
   "codemirror_mode": {
    "name": "ipython",
    "version": 3
   },
   "file_extension": ".py",
   "mimetype": "text/x-python",
   "name": "python",
   "nbconvert_exporter": "python",
   "pygments_lexer": "ipython3",
   "version": "3.10.0"
  }
 },
 "nbformat": 4,
 "nbformat_minor": 5
}
