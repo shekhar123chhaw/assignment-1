{
 "cells": [
  {
   "cell_type": "markdown",
   "id": "06fb255a",
   "metadata": {},
   "source": [
    "Sample numbers : numbers = (1, 2, 3, 4, 5, 6, 7, 8, 9) \n",
    "\n",
    "Expected Output :\n",
    "\n",
    "Number of even numbers : 4\n",
    "\n",
    "Number of odd numbers : 5"
   ]
  },
  {
   "cell_type": "code",
   "execution_count": 1,
   "id": "ad7d5a57",
   "metadata": {},
   "outputs": [
    {
     "name": "stdout",
     "output_type": "stream",
     "text": [
      "Number of even numbers :  4\n",
      "Number of odd numbers :  5\n"
     ]
    }
   ],
   "source": [
    "x = (1, 2, 3, 4, 5, 6, 7, 8, 9) \n",
    "a=0\n",
    "b=0\n",
    "for i in x:\n",
    "    \n",
    "    if i%2==0:\n",
    "        a=a+1\n",
    "    else:\n",
    "          b=b+1\n",
    "print(\"Number of even numbers : \",a)            \n",
    "print(\"Number of odd numbers : \",b)"
   ]
  },
  {
   "cell_type": "code",
   "execution_count": null,
   "id": "a87c19b9",
   "metadata": {},
   "outputs": [],
   "source": []
  }
 ],
 "metadata": {
  "kernelspec": {
   "display_name": "Python 3 (ipykernel)",
   "language": "python",
   "name": "python3"
  },
  "language_info": {
   "codemirror_mode": {
    "name": "ipython",
    "version": 3
   },
   "file_extension": ".py",
   "mimetype": "text/x-python",
   "name": "python",
   "nbconvert_exporter": "python",
   "pygments_lexer": "ipython3",
   "version": "3.10.0"
  }
 },
 "nbformat": 4,
 "nbformat_minor": 5
}
